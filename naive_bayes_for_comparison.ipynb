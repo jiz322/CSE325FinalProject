{
 "cells": [
  {
   "cell_type": "code",
   "execution_count": 12,
   "metadata": {},
   "outputs": [],
   "source": [
    "import random\n",
    "list2 = []\n",
    "file_data = open('amazon_review_less_than_300_chars_balanced.csv')\n",
    "for row in file_data:\n",
    "    list2.append(row)## Data pre-processing module\n",
    "    \n",
    "list3 = []\n",
    "for i in range(len(list2)):\n",
    "    list3.append((list2[i][-2],list2[i][:-3]))\n",
    "    \n",
    "random.seed(10)\n",
    "random.shuffle(list3)\n",
    "\n",
    "for i in range(len(list2)):\n",
    "    list3[i] = [list3[i][1].split(\" \"),int(list3[i][0])]\n",
    "\n",
    "lenth = len(list3)\n",
    "train_list = list3[0:int(lenth*0.8)]\n",
    "test_list = list3[int(lenth*0.8):]"
   ]
  },
  {
   "cell_type": "code",
   "execution_count": 5,
   "metadata": {},
   "outputs": [
    {
     "name": "stdout",
     "output_type": "stream",
     "text": [
      "('3', '\"not waterproof!  once touch water, gone!  light on fragrance--true to its words.  yeah, easily come off alright.  not too oily (relatively  speaking)\"')\n"
     ]
    }
   ],
   "source": [
    "print(train_list[0])"
   ]
  },
  {
   "cell_type": "code",
   "execution_count": 16,
   "metadata": {},
   "outputs": [],
   "source": [
    "from random import randint\n",
    "from sklearn.metrics import confusion_matrix\n",
    "\n",
    "class NBClassifier:\n",
    "    def __init__(self, classes):\n",
    "        self.classes = classes\n",
    "        self.class_counts = {}\n",
    "        for c in classes:\n",
    "            self.class_counts[c] = 1\n",
    "        self.counts = {}\n",
    "        for c in classes:\n",
    "            self.counts[c] = {}\n",
    "        self.vocab = set()\n",
    "    \n",
    "    def update_count(self, classification, data):\n",
    "        if data in self.counts[classification]:\n",
    "            self.counts[classification][data] += 1\n",
    "        else:\n",
    "            self.counts[classification][data] = 1\n",
    "    \n",
    "    def train(self):\n",
    "        training_data = train_list\n",
    "        for d in training_data:\n",
    "            d_class = d[1]\n",
    "            self.class_counts[d_class] += 1\n",
    "            for w in d[0]:\n",
    "                self.vocab.add(w)\n",
    "                self.update_count(d_class, w)\n",
    "\n",
    "    def get_count(self, classification, data):\n",
    "        if data in self.counts[classification]:\n",
    "            return self.counts[classification][data] + 1\n",
    "        else:\n",
    "            return 1\n",
    "    \n",
    "    def test(self):\n",
    "        test_data = test_list\n",
    "        tests = []\n",
    "        for d in test_data:\n",
    "            real_class = d[1]\n",
    "            words = set(d[0])\n",
    "            class_preds = {}\n",
    "            for c in self.classes:\n",
    "                pred = self.class_counts[c]\n",
    "                for w in words:\n",
    "                    pred *= self.get_count(c, w)\n",
    "                class_preds[c] = pred\n",
    "            tests.append((real_class, class_preds))\n",
    "        return tests"
   ]
  },
  {
   "cell_type": "code",
   "execution_count": 17,
   "metadata": {},
   "outputs": [
    {
     "name": "stdout",
     "output_type": "stream",
     "text": [
      "Accuracy =  26.2105\n",
      "Avg. Error =  34.378\n",
      "10790 \t5065 \t2107 \t773 \t1229 \t\n",
      "\n",
      "4454 \t9584 \t3415 \t1010 \t1415 \t\n",
      "\n",
      "1771 \t5851 \t7385 \t3059 \t1845 \t\n",
      "\n",
      "526 \t1465 \t3184 \t8047 \t6955 \t\n",
      "\n",
      "468 \t946 \t568 \t1473 \t16615 \t\n",
      "\n"
     ]
    }
   ],
   "source": [
    "c = NBClassifier([1, 2, 3, 4, 5])\n",
    "c.train()\n",
    "classes = c.test()\n",
    "num_correct = 0\n",
    "total_error = 0\n",
    "actual_classes = []\n",
    "predicted_classes = []\n",
    "for (c, p) in classes:\n",
    "    best_class = 1\n",
    "    best_class_num = 0\n",
    "    for pred in p:\n",
    "        if p[pred] > best_class_num:\n",
    "            best_class_num = p[pred]\n",
    "            best_class = pred\n",
    "    if c == best_class:\n",
    "        num_correct += 1\n",
    "    else:\n",
    "        total_error += abs(c - best_class)\n",
    "    actual_classes.append(c)\n",
    "    predicted_classes.append(best_class)\n",
    "print(\"Accuracy = \", float(num_correct)/num_test_samples)\n",
    "print(\"Avg. Error = \", float(total_error)/num_test_samples)\n",
    "con_mat = confusion_matrix(actual_classes, predicted_classes, labels=[1, 2, 3, 4, 5])\n",
    "for r in con_mat:\n",
    "    for c in r:\n",
    "        print(c,'\\t',end='')\n",
    "    print('\\n')"
   ]
  },
  {
   "cell_type": "code",
   "execution_count": 14,
   "metadata": {},
   "outputs": [
    {
     "name": "stdout",
     "output_type": "stream",
     "text": [
      "[['wonderful', 'natural', 'way', 'moisturize', 'skin', 'condition', 'hair', 'leaves', 'skin', 'hair', 'feeling', 'amazing'], 5]\n",
      "[['\"it', 'is', 'not', 'an', 'easy', 'to', 'use', 'recipe', 'book...', 'recipes', 'are', 'a', 'little', 'difficult', 'to', 'follow,', 'but', 'there', 'are', 'some', 'good', 'ideas,', 'and', 'useful', 'information', 'about', 'the', 'paleo', 'way', 'of', 'eating.\"'], 3]\n"
     ]
    }
   ],
   "source": [
    "c = NBClassifier([1, 2, 3, 4, 5], 'amazon_total.csv')\n",
    "print(c.sample(100,True)[0])\n",
    "print(train_list[])"
   ]
  },
  {
   "cell_type": "code",
   "execution_count": 18,
   "metadata": {},
   "outputs": [
    {
     "data": {
      "text/plain": [
       "array([[10790,  5065,  2107,   773,  1229],\n",
       "       [ 4454,  9584,  3415,  1010,  1415],\n",
       "       [ 1771,  5851,  7385,  3059,  1845],\n",
       "       [  526,  1465,  3184,  8047,  6955],\n",
       "       [  468,   946,   568,  1473, 16615]])"
      ]
     },
     "execution_count": 18,
     "metadata": {},
     "output_type": "execute_result"
    }
   ],
   "source": [
    "con_mat"
   ]
  },
  {
   "cell_type": "code",
   "execution_count": 19,
   "metadata": {},
   "outputs": [
    {
     "name": "stdout",
     "output_type": "stream",
     "text": [
      "68756\n"
     ]
    }
   ],
   "source": [
    "distance = 0\n",
    "for i in range(5):\n",
    "    for j in range(5):\n",
    "        distance+= con_mat[i][j]*abs(i-j)\n",
    "print(distance)"
   ]
  },
  {
   "cell_type": "code",
   "execution_count": 21,
   "metadata": {},
   "outputs": [
    {
     "data": {
      "text/plain": [
       "100000"
      ]
     },
     "execution_count": 21,
     "metadata": {},
     "output_type": "execute_result"
    }
   ],
   "source": [
    "sum(sum(con_mat))"
   ]
  },
  {
   "cell_type": "code",
   "execution_count": null,
   "metadata": {},
   "outputs": [],
   "source": []
  }
 ],
 "metadata": {
  "kernelspec": {
   "display_name": "Python 3",
   "language": "python",
   "name": "python3"
  },
  "language_info": {
   "codemirror_mode": {
    "name": "ipython",
    "version": 3
   },
   "file_extension": ".py",
   "mimetype": "text/x-python",
   "name": "python",
   "nbconvert_exporter": "python",
   "pygments_lexer": "ipython3",
   "version": "3.7.6"
  }
 },
 "nbformat": 4,
 "nbformat_minor": 4
}
