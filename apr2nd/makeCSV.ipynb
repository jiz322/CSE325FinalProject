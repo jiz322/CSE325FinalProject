{
 "cells": [
  {
   "cell_type": "code",
   "execution_count": 1,
   "metadata": {},
   "outputs": [],
   "source": [
    "import numpy as np\n",
    "\n",
    "with open(\"amazon_total.txt\") as file:\n",
    "    lines = file.readlines()"
   ]
  },
  {
   "cell_type": "code",
   "execution_count": 2,
   "metadata": {},
   "outputs": [
    {
     "data": {
      "text/plain": [
       "[]"
      ]
     },
     "execution_count": 2,
     "metadata": {},
     "output_type": "execute_result"
    }
   ],
   "source": [
    "# d2 read the amazon_total.txt into a list of arrays, each array contains all data about a review \n",
    "# (e.g. rating, review, product_id, and so).\n",
    "d2 = []\n",
    "prev_index = 0\n",
    "for i in range(len(lines)):\n",
    "    if lines[i][:6] == 'rating':\n",
    "        d2.append(lines[prev_index:i])\n",
    "        prev_index = i\n",
    "d2.pop(0)  "
   ]
  },
  {
   "cell_type": "code",
   "execution_count": 7,
   "metadata": {},
   "outputs": [
    {
     "name": "stdout",
     "output_type": "stream",
     "text": [
      "When I finished this book, I wanted to give it one star, because it betrays the reader so much, but that wouldn't be fair, because the first half of the book is so gripping.  The author had no idea when to quit, and she's just wallowing in squalor by the end.  The main characters, who seemed pretty realistic at the beginning, have become unbelievable monsters.  A sad letdown.  I'd feel like a better person if I hadn't read it.\n",
      "When I finished this book, I wanted to give it one star, because it betrays the reader so much, but that wouldn't be fair, because the first half of the book is so gripping.  The author had no idea when to quit, and she's just wallowing in squalor by the end.  The main characters, who seemed pretty realistic at the beginning, have become unbelievable monsters.  A sad letdown.  I'd feel like a better person if I hadn't read it.\n",
      "\n",
      "When I finished this book, I wanted to give it one star, because it betrays the reader so much, but that wouldn't be fair, because the first half of the book is so gripping.  The author had no idea when to quit, and she's just wallowing in squalor by the end.  The main characters, who seemed pretty realistic at the beginning, have become unbelievable monsters.  A sad letdown.  I'd feel like a better person if I hadn't read it.\n"
     ]
    }
   ],
   "source": [
    "\n",
    "# Testing\n",
    "# print(d2[5100001][0][8])\n",
    "# print(d2[5100001][-1][8:])\n",
    "# print(d2[4100001][0][8])\n",
    "# print(d2[4100001][-1][8:])\n",
    "# print(d2[3100001][0][8])\n",
    "# print(d2[3100001][-1][8:])\n",
    "# print(d2[2100001][0][8])\n",
    "# print(d2[2100001][-1][8:])\n",
    "# print(d2[1100001][0][8])\n",
    "#print(d2[1100001][-1][8:-1])\n",
    "\n",
    "\n",
    "\n"
   ]
  },
  {
   "cell_type": "code",
   "execution_count": 8,
   "metadata": {},
   "outputs": [],
   "source": [
    "d3 = []\n",
    "for review_list in d2:\n",
    "    review = review_list[-1][8:-1]\n",
    "    rating = int(review_list[0][8])\n",
    "    d3.append((review,rating))"
   ]
  },
  {
   "cell_type": "code",
   "execution_count": 9,
   "metadata": {},
   "outputs": [
    {
     "data": {
      "text/plain": [
       "('I use this in my coffee because of the health benefits associated with mct oil. It also tastes great and is usefull for your hair and skin as well.',\n",
       " 5)"
      ]
     },
     "execution_count": 9,
     "metadata": {},
     "output_type": "execute_result"
    }
   ],
   "source": [
    "d3[5]"
   ]
  },
  {
   "cell_type": "code",
   "execution_count": 10,
   "metadata": {},
   "outputs": [],
   "source": [
    "# write d3 into csv file\n",
    "import csv\n",
    "with open('amazon_total_review_and_rate.csv','w') as out:\n",
    "    csv_out=csv.writer(out)\n",
    "    csv_out.writerow(['review','rate'])\n",
    "    for row in d3:\n",
    "        csv_out.writerow(row)"
   ]
  },
  {
   "cell_type": "code",
   "execution_count": 11,
   "metadata": {},
   "outputs": [
    {
     "data": {
      "text/plain": [
       "('These are so cool! Worked perfect as \"pearls\" on my daughter\\'s Minnie Mouse cupcakes! Only wish I knew Walmart carried them. Wouldn\\'t have gone online. Oh well... Still had a smooth transaction!',\n",
       " 5)"
      ]
     },
     "execution_count": 11,
     "metadata": {},
     "output_type": "execute_result"
    }
   ],
   "source": [
    "d3[4162533]"
   ]
  },
  {
   "cell_type": "code",
   "execution_count": null,
   "metadata": {},
   "outputs": [],
   "source": []
  }
 ],
 "metadata": {
  "kernelspec": {
   "display_name": "Python 3",
   "language": "python",
   "name": "python3"
  },
  "language_info": {
   "codemirror_mode": {
    "name": "ipython",
    "version": 3
   },
   "file_extension": ".py",
   "mimetype": "text/x-python",
   "name": "python",
   "nbconvert_exporter": "python",
   "pygments_lexer": "ipython3",
   "version": "3.7.6"
  }
 },
 "nbformat": 4,
 "nbformat_minor": 4
}
